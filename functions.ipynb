{
 "cells": [
  {
   "cell_type": "code",
   "execution_count": 4,
   "metadata": {},
   "outputs": [],
   "source": [
    "#our first function\n",
    "\n",
    "def greeting_hello():\n",
    "    print(\"Hello from a function\")\n",
    "\n",
    "def greeting_hello_name(name):\n",
    "    print(\"Hello \", name)\n"
   ]
  },
  {
   "cell_type": "code",
   "execution_count": 5,
   "metadata": {},
   "outputs": [
    {
     "name": "stdout",
     "output_type": "stream",
     "text": [
      "Hello from a function\n",
      "Hello  Akia\n"
     ]
    }
   ],
   "source": [
    "greeting_hello()\n",
    "greeting_hello_name(\"Akia\")"
   ]
  },
  {
   "cell_type": "code",
   "execution_count": 31,
   "metadata": {},
   "outputs": [],
   "source": [
    "#Arbitrary Keyword Arguments,  **kwarg\n",
    "\n",
    "def print_last_name(**name): #astrics for multiple parameters \n",
    "        print(\"The last name is\" + name[\"lname\"])\n",
    "        print(\"The last name is\" + name[\"tname\"])\n",
    "        print(\"The last name is\" + name[\"yname\"])\n",
    "\n",
    "def print_last_name_copy(lname, tname, yname):\n",
    "    print(\"The last name is \" + lname)\n",
    "    print(\"The last name is \" + tname)\n",
    "    print(\"The last name is \" + yname)"
   ]
  },
  {
   "cell_type": "code",
   "execution_count": 33,
   "metadata": {},
   "outputs": [
    {
     "name": "stdout",
     "output_type": "stream",
     "text": [
      "The last name is Burnett\n",
      "The last name is Parra\n",
      "The last name is Dexter\n"
     ]
    }
   ],
   "source": [
    "print_last_name(lname = \" Burnett\", tname = \" Parra\", yname =\" Dexter\")"
   ]
  },
  {
   "cell_type": "code",
   "execution_count": 38,
   "metadata": {},
   "outputs": [],
   "source": [
    "#functions that return a value\n",
    "\n",
    "def division_int(value_a, value_b):\n",
    "    return value_a/value_b"
   ]
  },
  {
   "cell_type": "code",
   "execution_count": 39,
   "metadata": {},
   "outputs": [
    {
     "name": "stdout",
     "output_type": "stream",
     "text": [
      "5.0\n"
     ]
    }
   ],
   "source": [
    "results = division_int(15,3)\n",
    "print(results)"
   ]
  },
  {
   "cell_type": "code",
   "execution_count": 47,
   "metadata": {},
   "outputs": [],
   "source": [
    "#addition\n",
    "\n",
    "def add_int(value_t, value_f):\n",
    "    return value_t+value_f\n",
    "\n",
    "#subtraction\n",
    "def sub_int(value_q, value_w):\n",
    "    return value_q-value_w"
   ]
  },
  {
   "cell_type": "code",
   "execution_count": 48,
   "metadata": {},
   "outputs": [
    {
     "name": "stdout",
     "output_type": "stream",
     "text": [
      "15\n",
      "15\n",
      "5\n"
     ]
    }
   ],
   "source": [
    "results = add_int(10,5) #saves result in gloabal value\n",
    "print(results)\n",
    "\n",
    "print(add_int(10,5)) #only printing the results\n",
    "\n",
    "results = sub_int(10,5)\n",
    "print(results)"
   ]
  },
  {
   "cell_type": "code",
   "execution_count": 50,
   "metadata": {},
   "outputs": [],
   "source": [
    "def temperature(snowing, temp):\n",
    "    snowing = False\n",
    "    temp = -6\n",
    "\n",
    "    if temp < 0:\n",
    "        print(\"It is freezing\")\n",
    "        if snowing:\n",
    "            print(\"Put on boots\")\n",
    "            print(\"Time for hot chocolate\")\n",
    "        print(\"Bye\")"
   ]
  },
  {
   "cell_type": "code",
   "execution_count": 51,
   "metadata": {},
   "outputs": [
    {
     "name": "stdout",
     "output_type": "stream",
     "text": [
      "It is freezing\n",
      "Bye\n"
     ]
    }
   ],
   "source": [
    "temperature(False, -1)"
   ]
  }
 ],
 "metadata": {
  "interpreter": {
   "hash": "247ab06e135bb35fa78c5eff31b2a9a0050dcb5fb773c2631d2a29ac689eeccb"
  },
  "kernelspec": {
   "display_name": "Python 3.9.5 64-bit",
   "language": "python",
   "name": "python3"
  },
  "language_info": {
   "codemirror_mode": {
    "name": "ipython",
    "version": 3
   },
   "file_extension": ".py",
   "mimetype": "text/x-python",
   "name": "python",
   "nbconvert_exporter": "python",
   "pygments_lexer": "ipython3",
   "version": "3.9.5"
  },
  "orig_nbformat": 4
 },
 "nbformat": 4,
 "nbformat_minor": 2
}
