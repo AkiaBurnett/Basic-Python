{
 "cells": [
  {
   "cell_type": "code",
   "execution_count": null,
   "metadata": {},
   "outputs": [],
   "source": []
  },
  {
   "cell_type": "markdown",
   "metadata": {},
   "source": [
    "# <center> Python Data Types \n",
    "## <center> Homework #1\n",
    "### <center>MAT4906 (ML)"
   ]
  },
  {
   "cell_type": "markdown",
   "metadata": {},
   "source": [
    "### Problem 1.\n",
    "Create an integer variable called x that recieved any integer value using input function. Print the value of the variable and its type."
   ]
  },
  {
   "cell_type": "code",
   "execution_count": 3,
   "metadata": {},
   "outputs": [
    {
     "name": "stdout",
     "output_type": "stream",
     "text": [
      "3\n",
      "<class 'type'>\n"
     ]
    }
   ],
   "source": [
    "x = int(input(\"Enter any integer\"))\n",
    "print(x)\n",
    "print(type(x))"
   ]
  },
  {
   "cell_type": "markdown",
   "metadata": {},
   "source": [
    "### Problem 2.\n",
    "Write an algorithm to settle the following question: If Sam lends $1,500 to his friend at an annual interest rate of %4.3, compounded per month. Calculate the interest after the end of the year by using the compount interest formula. The program must print the computed value. "
   ]
  },
  {
   "cell_type": "code",
   "execution_count": 10,
   "metadata": {},
   "outputs": [
    {
     "name": "stdout",
     "output_type": "stream",
     "text": [
      "2486.0105089489784\n"
     ]
    }
   ],
   "source": [
    "#define the principle, intrest rate, compound period per year, total years\n",
    "P = 1500\n",
    "r = .043\n",
    "n = 1\n",
    "t = 12\n",
    "\n",
    "#compound intrest forumla\n",
    "final = P* (((1 + (r/n)) ** (t)))\n",
    "print(final)"
   ]
  },
  {
   "cell_type": "markdown",
   "metadata": {},
   "source": [
    "### Problem 3\n",
    "Write a program that reads three numbers and prints \"increasing\" if they are in increasing order, \"decreasing\" if they are in decreasing order, and \"neither\" otherwise. Here, increasing measns \"strictly increasing\", with each value larger than its predecessor. Example; The sequence 3 4 4 would not be considered increasing. The sequence 4 7 9 is increasing and sequence 8 3 1 is decreasing."
   ]
  },
  {
   "cell_type": "code",
   "execution_count": 5,
   "metadata": {},
   "outputs": [
    {
     "name": "stdout",
     "output_type": "stream",
     "text": [
      "increasing\n"
     ]
    }
   ],
   "source": [
    "a = int(input(\"Enter your first number\"))\n",
    "b = int(input(\"Enter your second number\"))\n",
    "c = int(input(\"Enter your thrid number\"))\n",
    "\n",
    "if a<b and b<c:\n",
    "    print(\"increasing\")\n",
    "elif a>b and b>c:\n",
    "    print(\"decreasing\")\n",
    "else:\n",
    "    print(\"neither\")\n"
   ]
  },
  {
   "cell_type": "markdown",
   "metadata": {},
   "source": [
    "### Problem 4\n",
    "\n",
    "The original U.S income tax of 1913 was quite simple. The tax was;\n",
    "* 1 percent on the first $50,000.\n",
    "* 2 percent on the amount over $50,000 up to $75,000.\n",
    "* 3 percent on the amount over $75,000 up to $100,000.\n",
    "* 4 percent on the amount over $250,000 up to $500,000.\n",
    "\n",
    "There was no separate schedule for single or married taxpayers. Write a program that computes the income tax according to this schedule."
   ]
  },
  {
   "cell_type": "code",
   "execution_count": 54,
   "metadata": {},
   "outputs": [
    {
     "name": "stdout",
     "output_type": "stream",
     "text": [
      "12000.0\n"
     ]
    }
   ],
   "source": [
    "income = int(input(\"Input your annual income\"))\n",
    "\n",
    "if income <= 50000:\n",
    "    tax= (income*.01) \n",
    "    print(tax)\n",
    "elif income >= 50000 and income <= 75000:\n",
    "    tax= (income*.02)\n",
    "    print(tax)\n",
    "elif income >= 75000 and income <= 100000:\n",
    "    tax= (income*.03)\n",
    "    print(tax)\n",
    "elif income >= 250000 and income <= 500000:\n",
    "    tax= (income*.04)\n",
    "    print(tax)\n"
   ]
  },
  {
   "cell_type": "markdown",
   "metadata": {},
   "source": [
    "## Problem 5\n",
    "\n",
    "Write a <strong><em>while</em></strong> loop that prints.\n",
    "* All squares less than given number n. For example, if n is 100, print 0 1 4 9 16 25 36 49 64 81\n",
    "* All positive number that are divisible by 10 and less than n. For example, 10 20 30 40 50 60 70 80 90\n",
    "* All power of two less than n. For example, if n is 100, print 1 2 4 8 16 32 64."
   ]
  },
  {
   "cell_type": "markdown",
   "metadata": {},
   "source": []
  },
  {
   "cell_type": "code",
   "execution_count": 67,
   "metadata": {},
   "outputs": [
    {
     "name": "stdout",
     "output_type": "stream",
     "text": [
      "0   1   4   9   16   25   36   49   64   81   \n",
      "10   20   30   40   50   60   70   80   90   "
     ]
    }
   ],
   "source": [
    "n = int(input(\"Enter a number: \")) #All squares less than a given number\n",
    "x = 0\n",
    "while x*x < n:\n",
    "    print(x*x, \" \", end=\" \")\n",
    "    x +=1\n",
    "print()\n",
    "\n",
    "y=10 # All positive num divisible by 10\n",
    "while y < n:\n",
    "    print(y, \" \", end=\" \")\n",
    "    y +=10\n",
    "\n",
    "a = n**2 #I'm having trouble with all powers of two\n",
    "while a< n:\n",
    "    print(a)\n",
    "    a += 2"
   ]
  },
  {
   "cell_type": "code",
   "execution_count": null,
   "metadata": {},
   "outputs": [
    {
     "name": "stdout",
     "output_type": "stream",
     "text": [
      "10\n",
      "10\n",
      "10\n",
      "10\n",
      "10\n",
      "10\n",
      "10\n",
      "10\n",
      "10\n",
      "10\n",
      "0   10   20   30   40   50   60   70   80   90   "
     ]
    }
   ],
   "source": [
    "#Attempts at creating a loop for pos num divisible by 10\n",
    "n = int(input(\"Enter a number: \"))\n",
    "i = 1\n",
    "while i<n:  #only prints n/10 ten times \n",
    "    x = n//10\n",
    "    print(x)\n",
    "    i +=10\n",
    "\n",
    "for x in range(0,n,10): #for loop prints values 0 to n in increments of 10\n",
    "    print(x,\" \", end=\" \")\n",
    "\n"
   ]
  },
  {
   "cell_type": "markdown",
   "metadata": {},
   "source": [
    "### Problem 6\n",
    "Using a for loop, write a program that prompts the user for an integer and then prints out all prime numbers up to that integer. For example, when the user enter 20, the program should print 2 3 5 7 11 13 17 19."
   ]
  },
  {
   "cell_type": "code",
   "execution_count": 47,
   "metadata": {},
   "outputs": [
    {
     "name": "stdout",
     "output_type": "stream",
     "text": [
      "3 5 7 11 13 17 19 "
     ]
    }
   ],
   "source": [
    "upto = int(input(\"Enter an integer: \"))\n",
    "\n",
    "\n",
    "for num in range(2, upto + 1):\n",
    "    i = 2\n",
    "    for i in range(2, num):\n",
    "        if(num%i == 0):\n",
    "            i = num\n",
    "            break\n",
    "    if(i != num):\n",
    "        print(num, end=\" \")\n",
    "    \n"
   ]
  },
  {
   "cell_type": "markdown",
   "metadata": {},
   "source": [
    "Scoring:\n",
    "\n",
    "Problem 1 ---> 5 pts.\n",
    "\n",
    "Problem 2 ---> 8 pts.\n",
    "\n",
    "Problem 3 ---> 10 pts.\n",
    "\n",
    "Problem 4 ---> 15 pts.\n",
    "\n",
    "Problem 5 ---> 15 pts.\n",
    "\n",
    "Problem 6 ---> 8 pts.\n",
    "\n",
    "Total poinsts = 61 pts."
   ]
  },
  {
   "cell_type": "code",
   "execution_count": null,
   "metadata": {},
   "outputs": [],
   "source": []
  }
 ],
 "metadata": {
  "interpreter": {
   "hash": "31f2aee4e71d21fbe5cf8b01ff0e069b9275f58929596ceb00d14d90e3e16cd6"
  },
  "kernelspec": {
   "display_name": "Python 3.8.9 64-bit",
   "language": "python",
   "name": "python3"
  },
  "language_info": {
   "codemirror_mode": {
    "name": "ipython",
    "version": 3
   },
   "file_extension": ".py",
   "mimetype": "text/x-python",
   "name": "python",
   "nbconvert_exporter": "python",
   "pygments_lexer": "ipython3",
   "version": "3.9.5"
  },
  "orig_nbformat": 4
 },
 "nbformat": 4,
 "nbformat_minor": 2
}
