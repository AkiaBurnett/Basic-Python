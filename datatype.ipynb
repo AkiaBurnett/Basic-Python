{
 "cells": [
  {
   "cell_type": "code",
   "execution_count": 3,
   "metadata": {},
   "outputs": [
    {
     "name": "stdout",
     "output_type": "stream",
     "text": [
      "3\n",
      "<class 'int'>\n",
      "10000000000\n",
      "<class 'int'>\n"
     ]
    }
   ],
   "source": [
    "x = 3\n",
    "print(x)\n",
    "print(type(x))\n",
    "\n",
    "y=10000000000\n",
    "print(y)\n",
    "print(type(y))\n"
   ]
  },
  {
   "cell_type": "code",
   "execution_count": 6,
   "metadata": {},
   "outputs": [
    {
     "name": "stdout",
     "output_type": "stream",
     "text": [
      "3\n",
      "<class 'int'>\n"
     ]
    }
   ],
   "source": [
    "age = int(input(\"Please enter your age\"))\n",
    "print(age)\n",
    "print(type(age))\n"
   ]
  },
  {
   "cell_type": "code",
   "execution_count": 7,
   "metadata": {},
   "outputs": [
    {
     "name": "stdout",
     "output_type": "stream",
     "text": [
      "1.83\n",
      "<class 'float'>\n"
     ]
    }
   ],
   "source": [
    "# Floating Point Numbers\n",
    "exchange_rate = 1.83\n",
    "print(exchange_rate)\n",
    "print(type(exchange_rate))"
   ]
  },
  {
   "cell_type": "code",
   "execution_count": 11,
   "metadata": {},
   "outputs": [
    {
     "name": "stdout",
     "output_type": "stream",
     "text": [
      "<class 'float'>\n",
      "int value as a float value: 25.0\n"
     ]
    }
   ],
   "source": [
    "string_value = \"1.5\"\n",
    "int_value = 25\n",
    "float_value = float(string_value)\n",
    "print(type(float_value))\n",
    "float_value = float(int_value)\n",
    "print('int value as a float value:', float_value)\n"
   ]
  },
  {
   "cell_type": "code",
   "execution_count": 12,
   "metadata": {},
   "outputs": [
    {
     "name": "stdout",
     "output_type": "stream",
     "text": [
      "5.5\n",
      "<class 'float'>\n"
     ]
    }
   ],
   "source": [
    "exchange_rate = float(input(\"Please enter the exchange rate to use: \"))\n",
    "print(exchange_rate)\n",
    "print(type(exchange_rate))\n"
   ]
  },
  {
   "cell_type": "code",
   "execution_count": 17,
   "metadata": {},
   "outputs": [
    {
     "name": "stdout",
     "output_type": "stream",
     "text": [
      "True\n",
      "<class 'bool'>\n",
      "False\n",
      "<class 'bool'>\n"
     ]
    }
   ],
   "source": [
    "# Boolean Values\n",
    "all_ok = True\n",
    "print(all_ok)\n",
    "print(type(all_ok))\n",
    "\n",
    "all_ok = False\n",
    "print(all_ok)\n",
    "print(type(all_ok))"
   ]
  },
  {
   "cell_type": "code",
   "execution_count": 19,
   "metadata": {},
   "outputs": [
    {
     "name": "stdout",
     "output_type": "stream",
     "text": [
      "1\n",
      "0\n",
      "True\n",
      "False\n"
     ]
    }
   ],
   "source": [
    "print(int(True))\n",
    "print(int(False))\n",
    "\n",
    "print(bool(1))\n",
    "print(bool(0))\n"
   ]
  },
  {
   "cell_type": "code",
   "execution_count": 23,
   "metadata": {},
   "outputs": [
    {
     "name": "stdout",
     "output_type": "stream",
     "text": [
      "True\n",
      "<class 'bool'>\n"
     ]
    }
   ],
   "source": [
    "status = bool(input(\"Ok to proceed: \"))\n",
    "print(status)\n",
    "print(type(status))"
   ]
  },
  {
   "cell_type": "code",
   "execution_count": 29,
   "metadata": {},
   "outputs": [
    {
     "name": "stdout",
     "output_type": "stream",
     "text": [
      "25\n",
      "150\n",
      "-5\n",
      "1.5\n",
      "1\n",
      "5\n"
     ]
    }
   ],
   "source": [
    "# Arithmetic Operation\n",
    "home = 10\n",
    "away = 15\n",
    "print(home + away) #addition\n",
    "print(home * away) #multiplication \n",
    "print(home - away) #subtraction \n",
    "print(away/home) #division\n",
    "print(away//home) #division int\n",
    "print(away%home) #remainder\n"
   ]
  },
  {
   "cell_type": "code",
   "execution_count": 33,
   "metadata": {},
   "outputs": [
    {
     "name": "stdout",
     "output_type": "stream",
     "text": [
      "bye\n"
     ]
    }
   ],
   "source": [
    "#IF statements\n",
    "num = int(input(\"Enter a number\"))\n",
    "if num < 0:\n",
    "    print(num, \"is negative\")\n",
    "print(\"bye\")"
   ]
  },
  {
   "cell_type": "code",
   "execution_count": 38,
   "metadata": {},
   "outputs": [
    {
     "name": "stdout",
     "output_type": "stream",
     "text": [
      "thank you\n"
     ]
    }
   ],
   "source": [
    "#Else in an IF statement\n",
    "savings = float(input(\"How much do you have in saving: \"))\n",
    "\n",
    "if savings == 0:\n",
    "    print(\"Sorry no savings\")\n",
    "elif savings < 500:\n",
    "    print(\"Well done\")\n",
    "elif savings < 1000:\n",
    "    print(\"Thats a tiddy sum\")\n",
    "elif savings <10000:\n",
    "    print(\"Welcome Sr.\")\n",
    "else:\n",
    "    print(\"thank you\")\n"
   ]
  },
  {
   "cell_type": "code",
   "execution_count": 42,
   "metadata": {},
   "outputs": [
    {
     "name": "stdout",
     "output_type": "stream",
     "text": [
      "It is freezing\n",
      "Bye\n"
     ]
    }
   ],
   "source": [
    "#Nesting IF statement\n",
    "snowing = False\n",
    "temp = -6\n",
    "\n",
    "if temp < 0:\n",
    "    print(\"It is freezing\")\n",
    "    if snowing:\n",
    "        print(\"Put on boots\")\n",
    "        print(\"Time for hot chocolate\")\n",
    "    print(\"Bye\")"
   ]
  },
  {
   "cell_type": "code",
   "execution_count": 44,
   "metadata": {},
   "outputs": [
    {
     "name": "stdout",
     "output_type": "stream",
     "text": [
      "teenager\n"
     ]
    }
   ],
   "source": [
    "#IF statements using combined expressions\n",
    "age = 13\n",
    "status = None\n",
    "\n",
    "if (age > 12) and (age < 20):\n",
    "    status = \"teenager\"\n",
    "else:\n",
    "    status = \"not a teenager\"\n",
    "print(status)"
   ]
  }
 ],
 "metadata": {
  "interpreter": {
   "hash": "247ab06e135bb35fa78c5eff31b2a9a0050dcb5fb773c2631d2a29ac689eeccb"
  },
  "kernelspec": {
   "display_name": "Python 3.9.5 64-bit",
   "language": "python",
   "name": "python3"
  },
  "language_info": {
   "codemirror_mode": {
    "name": "ipython",
    "version": 3
   },
   "file_extension": ".py",
   "mimetype": "text/x-python",
   "name": "python",
   "nbconvert_exporter": "python",
   "pygments_lexer": "ipython3",
   "version": "3.9.5"
  },
  "orig_nbformat": 4
 },
 "nbformat": 4,
 "nbformat_minor": 2
}
