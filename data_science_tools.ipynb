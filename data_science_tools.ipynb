{
 "cells": [
  {
   "cell_type": "code",
   "execution_count": 1,
   "metadata": {},
   "outputs": [],
   "source": [
    "import numpy as np"
   ]
  },
  {
   "cell_type": "code",
   "execution_count": 7,
   "metadata": {},
   "outputs": [
    {
     "name": "stdout",
     "output_type": "stream",
     "text": [
      "<class 'numpy.ndarray'>\n",
      "(4,)\n",
      "1 3 4\n",
      "[7 2 3 4]\n"
     ]
    }
   ],
   "source": [
    "#arrays (table of numbers) with numpy\n",
    "a = np.array([1,2,3,4])\n",
    "print(type(a))\n",
    "print(a.shape) #shapt funt gives rows, columns of the array\n",
    "print(a[0], a[2], a[3])\n",
    "a[0] = 7 #changes the variable for the number in the 1st position \n",
    "print(a)"
   ]
  },
  {
   "cell_type": "code",
   "execution_count": 11,
   "metadata": {},
   "outputs": [
    {
     "name": "stdout",
     "output_type": "stream",
     "text": [
      "(2, 3)\n",
      "5 6 2\n",
      "[[5 6 7]\n",
      " [2 4 9]]\n"
     ]
    }
   ],
   "source": [
    "#arrays with 2 rows and 3 columns\n",
    "b = np.array([[5,6,7],[2,4,9]]) #rows rep the brackets and columns are in the commas\n",
    "print(b.shape)\n",
    "print(b[0,0], b[0,1], b[1,0])\n",
    "print(b) #print array"
   ]
  },
  {
   "cell_type": "code",
   "execution_count": 31,
   "metadata": {},
   "outputs": [
    {
     "name": "stdout",
     "output_type": "stream",
     "text": [
      "[[0. 0.]\n",
      " [0. 0.]]\n",
      "[[1. 1.]\n",
      " [1. 1.]\n",
      " [1. 1.]]\n",
      "[[5 5 5 5]\n",
      " [5 5 5 5]\n",
      " [5 5 5 5]]\n",
      "[[1. 0. 0.]\n",
      " [0. 1. 0.]\n",
      " [0. 0. 1.]]\n",
      "[[143 100]\n",
      " [112 137]]\n"
     ]
    }
   ],
   "source": [
    "#creating zero matrix\n",
    "zeros_array = np.zeros((2,2)) #argument/ parameters are in parenthesis  \n",
    "print(zeros_array)\n",
    "\n",
    "ones_array = np.ones((3,2))\n",
    "print(ones_array)\n",
    "\n",
    "full_array = np.full((3,4),5) #array is 3x4 with an element of 5\n",
    "print(full_array)\n",
    "\n",
    "identity_array = np.eye(3) #identity is a square so only one parameter needs to be set 3x3\n",
    "print(identity_array)\n",
    "\n",
    "random_array_int = np.random.randint(100,150,(2,2))\n",
    "print(random_array_int)"
   ]
  },
  {
   "cell_type": "code",
   "execution_count": 33,
   "metadata": {},
   "outputs": [
    {
     "name": "stdout",
     "output_type": "stream",
     "text": [
      "[100 137]\n",
      "[112 137]\n"
     ]
    }
   ],
   "source": [
    "print(random_array_int[:,1]) #printing all elements from the seond column\n",
    "\n",
    "print(random_array_int[1,:]) #print all elements from the second row"
   ]
  }
 ],
 "metadata": {
  "interpreter": {
   "hash": "247ab06e135bb35fa78c5eff31b2a9a0050dcb5fb773c2631d2a29ac689eeccb"
  },
  "kernelspec": {
   "display_name": "Python 3.9.5 64-bit",
   "language": "python",
   "name": "python3"
  },
  "language_info": {
   "codemirror_mode": {
    "name": "ipython",
    "version": 3
   },
   "file_extension": ".py",
   "mimetype": "text/x-python",
   "name": "python",
   "nbconvert_exporter": "python",
   "pygments_lexer": "ipython3",
   "version": "3.9.5"
  },
  "orig_nbformat": 4
 },
 "nbformat": 4,
 "nbformat_minor": 2
}
