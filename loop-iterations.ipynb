{
 "cells": [
  {
   "cell_type": "code",
   "execution_count": 1,
   "metadata": {},
   "outputs": [
    {
     "name": "stdout",
     "output_type": "stream",
     "text": [
      "starting\n",
      "0   1   2   3   4   5   6   7   8   9   \n",
      "Done\n"
     ]
    }
   ],
   "source": [
    "#while loops\n",
    "count = 0\n",
    "print(\"starting\")\n",
    "while count < 10:\n",
    "    print(count, \" \", end=\" \") #part of the while loop\n",
    "    count += 1 #count = count + 1 \n",
    "print()\n",
    "print(\"Done\")"
   ]
  },
  {
   "cell_type": "code",
   "execution_count": 4,
   "metadata": {},
   "outputs": [
    {
     "name": "stdout",
     "output_type": "stream",
     "text": [
      "Print out value in a range\n",
      "0   1   2   3   4   5   6   7   8   9   \n",
      "Done\n"
     ]
    }
   ],
   "source": [
    "# for loops over a set of values ina range\n",
    "print(\"Print out value in a range\")\n",
    "for i in range(0,10):\n",
    "    print(i, \" \", end=\" \")\n",
    "print()\n",
    "print(\"Done\")"
   ]
  },
  {
   "cell_type": "code",
   "execution_count": 5,
   "metadata": {},
   "outputs": [
    {
     "name": "stdout",
     "output_type": "stream",
     "text": [
      "0   2   4   6   8   \n",
      "Done\n"
     ]
    }
   ],
   "source": [
    "#for loop values in a range but increament value by 2 \n",
    "\n",
    "for i in range (0, 10, 2): #goes to the value of 10 in increments of 2 \n",
    "    print(i, \" \", end=\" \")\n",
    "print()\n",
    "print(\"Done\")\n"
   ]
  },
  {
   "cell_type": "code",
   "execution_count": null,
   "metadata": {},
   "outputs": [],
   "source": [
    "#Break loop statement\n",
    "print(\"Only print code if all interation completed\")\n",
    "num = int(input(\"Enter a number to check for: \"))\n",
    "for i in range(0,6): \n",
    "    if i == num: #when the number inputed by user = i code will break(stop before the end of the range)\n",
    "        break\n",
    "    print(i\" \",end=\" \")\n",
    "print(\"Done\")"
   ]
  },
  {
   "cell_type": "code",
   "execution_count": 9,
   "metadata": {},
   "outputs": [
    {
     "name": "stdout",
     "output_type": "stream",
     "text": [
      "0 hey it is a evem number\n",
      "2 hey it is a evem number\n",
      "4 hey it is a evem number\n",
      "6 hey it is a evem number\n",
      "8 hey it is a evem number\n",
      "Done\n"
     ]
    }
   ],
   "source": [
    "#Continue loop statement\n",
    "for i in range(0,10):\n",
    "    #print(i, \" \", end=\"\\n\")\n",
    "    if i%2 == 1: \n",
    "        continue \n",
    "    print(i, \"hey it is a evem number\")\n",
    "print(\"Done\")"
   ]
  }
 ],
 "metadata": {
  "interpreter": {
   "hash": "247ab06e135bb35fa78c5eff31b2a9a0050dcb5fb773c2631d2a29ac689eeccb"
  },
  "kernelspec": {
   "display_name": "Python 3.9.5 64-bit",
   "language": "python",
   "name": "python3"
  },
  "language_info": {
   "codemirror_mode": {
    "name": "ipython",
    "version": 3
   },
   "file_extension": ".py",
   "mimetype": "text/x-python",
   "name": "python",
   "nbconvert_exporter": "python",
   "pygments_lexer": "ipython3",
   "version": "3.9.5"
  },
  "orig_nbformat": 4
 },
 "nbformat": 4,
 "nbformat_minor": 2
}
